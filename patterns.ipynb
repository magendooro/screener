{
 "cells": [
  {
   "cell_type": "code",
   "execution_count": 45,
   "metadata": {},
   "outputs": [],
   "source": [
    "from metrics import calculate_metrics, read_all_tickers\n",
    "import pandas as pd\n",
    "from bokeh.plotting import figure, show\n",
    "from scipy.signal import find_peaks\n",
    "import matplotlib.pyplot as plt\n",
    "import datetime\n",
    "import numpy as np\n"
   ]
  },
  {
   "cell_type": "code",
   "execution_count": 46,
   "metadata": {},
   "outputs": [],
   "source": [
    "data = read_all_tickers('data/tickers')\n",
    "data.loc[:, 'Date'] = data.Date.apply(lambda x: datetime.date.fromisoformat(x))"
   ]
  },
  {
   "cell_type": "code",
   "execution_count": 47,
   "metadata": {},
   "outputs": [
    {
     "data": {
      "text/html": [
       "<div>\n",
       "<style scoped>\n",
       "    .dataframe tbody tr th:only-of-type {\n",
       "        vertical-align: middle;\n",
       "    }\n",
       "\n",
       "    .dataframe tbody tr th {\n",
       "        vertical-align: top;\n",
       "    }\n",
       "\n",
       "    .dataframe thead th {\n",
       "        text-align: right;\n",
       "    }\n",
       "</style>\n",
       "<table border=\"1\" class=\"dataframe\">\n",
       "  <thead>\n",
       "    <tr style=\"text-align: right;\">\n",
       "      <th></th>\n",
       "      <th>index</th>\n",
       "      <th>Date</th>\n",
       "      <th>Open</th>\n",
       "      <th>High</th>\n",
       "      <th>Low</th>\n",
       "      <th>Close</th>\n",
       "      <th>Volume</th>\n",
       "      <th>Dividends</th>\n",
       "      <th>Stock Splits</th>\n",
       "      <th>Symbol</th>\n",
       "      <th>Gradient</th>\n",
       "    </tr>\n",
       "  </thead>\n",
       "  <tbody>\n",
       "    <tr>\n",
       "      <th>0</th>\n",
       "      <td>506</td>\n",
       "      <td>2021-01-04</td>\n",
       "      <td>221.507173</td>\n",
       "      <td>221.975014</td>\n",
       "      <td>213.822655</td>\n",
       "      <td>216.689423</td>\n",
       "      <td>37130100.0</td>\n",
       "      <td>0.0</td>\n",
       "      <td>0.0</td>\n",
       "      <td>MSFT</td>\n",
       "      <td>NaN</td>\n",
       "    </tr>\n",
       "    <tr>\n",
       "      <th>1</th>\n",
       "      <td>507</td>\n",
       "      <td>2021-01-05</td>\n",
       "      <td>216.261380</td>\n",
       "      <td>217.515598</td>\n",
       "      <td>214.708553</td>\n",
       "      <td>216.898438</td>\n",
       "      <td>23823000.0</td>\n",
       "      <td>0.0</td>\n",
       "      <td>0.0</td>\n",
       "      <td>MSFT</td>\n",
       "      <td>NaN</td>\n",
       "    </tr>\n",
       "    <tr>\n",
       "      <th>2</th>\n",
       "      <td>508</td>\n",
       "      <td>2021-01-06</td>\n",
       "      <td>211.194780</td>\n",
       "      <td>215.494931</td>\n",
       "      <td>210.965841</td>\n",
       "      <td>211.274414</td>\n",
       "      <td>35930700.0</td>\n",
       "      <td>0.0</td>\n",
       "      <td>0.0</td>\n",
       "      <td>MSFT</td>\n",
       "      <td>NaN</td>\n",
       "    </tr>\n",
       "    <tr>\n",
       "      <th>3</th>\n",
       "      <td>509</td>\n",
       "      <td>2021-01-07</td>\n",
       "      <td>213.056186</td>\n",
       "      <td>218.331828</td>\n",
       "      <td>212.727716</td>\n",
       "      <td>217.286652</td>\n",
       "      <td>27694500.0</td>\n",
       "      <td>0.0</td>\n",
       "      <td>0.0</td>\n",
       "      <td>MSFT</td>\n",
       "      <td>NaN</td>\n",
       "    </tr>\n",
       "    <tr>\n",
       "      <th>4</th>\n",
       "      <td>510</td>\n",
       "      <td>2021-01-08</td>\n",
       "      <td>217.674868</td>\n",
       "      <td>219.566144</td>\n",
       "      <td>216.032458</td>\n",
       "      <td>218.610550</td>\n",
       "      <td>22956200.0</td>\n",
       "      <td>0.0</td>\n",
       "      <td>0.0</td>\n",
       "      <td>MSFT</td>\n",
       "      <td>0.189129</td>\n",
       "    </tr>\n",
       "    <tr>\n",
       "      <th>...</th>\n",
       "      <td>...</td>\n",
       "      <td>...</td>\n",
       "      <td>...</td>\n",
       "      <td>...</td>\n",
       "      <td>...</td>\n",
       "      <td>...</td>\n",
       "      <td>...</td>\n",
       "      <td>...</td>\n",
       "      <td>...</td>\n",
       "      <td>...</td>\n",
       "      <td>...</td>\n",
       "    </tr>\n",
       "    <tr>\n",
       "      <th>305</th>\n",
       "      <td>811</td>\n",
       "      <td>2022-03-21</td>\n",
       "      <td>298.890015</td>\n",
       "      <td>300.140015</td>\n",
       "      <td>294.899994</td>\n",
       "      <td>299.160004</td>\n",
       "      <td>28351200.0</td>\n",
       "      <td>0.0</td>\n",
       "      <td>0.0</td>\n",
       "      <td>MSFT</td>\n",
       "      <td>2.709999</td>\n",
       "    </tr>\n",
       "    <tr>\n",
       "      <th>306</th>\n",
       "      <td>812</td>\n",
       "      <td>2022-03-22</td>\n",
       "      <td>299.799988</td>\n",
       "      <td>305.000000</td>\n",
       "      <td>298.769989</td>\n",
       "      <td>304.059998</td>\n",
       "      <td>27599700.0</td>\n",
       "      <td>0.0</td>\n",
       "      <td>0.0</td>\n",
       "      <td>MSFT</td>\n",
       "      <td>1.742496</td>\n",
       "    </tr>\n",
       "    <tr>\n",
       "      <th>307</th>\n",
       "      <td>813</td>\n",
       "      <td>2022-03-23</td>\n",
       "      <td>300.510010</td>\n",
       "      <td>303.230011</td>\n",
       "      <td>297.720001</td>\n",
       "      <td>299.489990</td>\n",
       "      <td>25715400.0</td>\n",
       "      <td>0.0</td>\n",
       "      <td>0.0</td>\n",
       "      <td>MSFT</td>\n",
       "      <td>0.992500</td>\n",
       "    </tr>\n",
       "    <tr>\n",
       "      <th>308</th>\n",
       "      <td>814</td>\n",
       "      <td>2022-03-24</td>\n",
       "      <td>299.140015</td>\n",
       "      <td>304.200012</td>\n",
       "      <td>298.320007</td>\n",
       "      <td>304.100006</td>\n",
       "      <td>24484500.0</td>\n",
       "      <td>0.0</td>\n",
       "      <td>0.0</td>\n",
       "      <td>MSFT</td>\n",
       "      <td>1.023750</td>\n",
       "    </tr>\n",
       "    <tr>\n",
       "      <th>309</th>\n",
       "      <td>815</td>\n",
       "      <td>2022-03-25</td>\n",
       "      <td>305.230011</td>\n",
       "      <td>305.500000</td>\n",
       "      <td>299.290009</td>\n",
       "      <td>303.679993</td>\n",
       "      <td>22550600.0</td>\n",
       "      <td>0.0</td>\n",
       "      <td>0.0</td>\n",
       "      <td>MSFT</td>\n",
       "      <td>1.129997</td>\n",
       "    </tr>\n",
       "  </tbody>\n",
       "</table>\n",
       "<p>310 rows × 11 columns</p>\n",
       "</div>"
      ],
      "text/plain": [
       "     index        Date        Open        High         Low       Close  \\\n",
       "0      506  2021-01-04  221.507173  221.975014  213.822655  216.689423   \n",
       "1      507  2021-01-05  216.261380  217.515598  214.708553  216.898438   \n",
       "2      508  2021-01-06  211.194780  215.494931  210.965841  211.274414   \n",
       "3      509  2021-01-07  213.056186  218.331828  212.727716  217.286652   \n",
       "4      510  2021-01-08  217.674868  219.566144  216.032458  218.610550   \n",
       "..     ...         ...         ...         ...         ...         ...   \n",
       "305    811  2022-03-21  298.890015  300.140015  294.899994  299.160004   \n",
       "306    812  2022-03-22  299.799988  305.000000  298.769989  304.059998   \n",
       "307    813  2022-03-23  300.510010  303.230011  297.720001  299.489990   \n",
       "308    814  2022-03-24  299.140015  304.200012  298.320007  304.100006   \n",
       "309    815  2022-03-25  305.230011  305.500000  299.290009  303.679993   \n",
       "\n",
       "         Volume  Dividends  Stock Splits Symbol  Gradient  \n",
       "0    37130100.0        0.0           0.0   MSFT       NaN  \n",
       "1    23823000.0        0.0           0.0   MSFT       NaN  \n",
       "2    35930700.0        0.0           0.0   MSFT       NaN  \n",
       "3    27694500.0        0.0           0.0   MSFT       NaN  \n",
       "4    22956200.0        0.0           0.0   MSFT  0.189129  \n",
       "..          ...        ...           ...    ...       ...  \n",
       "305  28351200.0        0.0           0.0   MSFT  2.709999  \n",
       "306  27599700.0        0.0           0.0   MSFT  1.742496  \n",
       "307  25715400.0        0.0           0.0   MSFT  0.992500  \n",
       "308  24484500.0        0.0           0.0   MSFT  1.023750  \n",
       "309  22550600.0        0.0           0.0   MSFT  1.129997  \n",
       "\n",
       "[310 rows x 11 columns]"
      ]
     },
     "execution_count": 47,
     "metadata": {},
     "output_type": "execute_result"
    }
   ],
   "source": [
    "subset = data.loc[data.Symbol == 'MSFT']\n",
    "subset = subset.loc[subset.Date > datetime.date(2021,1,1)]\n",
    "subset['Gradient'] = np.gradient(subset['Close'].rolling(center=False,window=4).mean())\n",
    "subset.reset_index(inplace = True)\n",
    "subset"
   ]
  },
  {
   "cell_type": "code",
   "execution_count": 50,
   "metadata": {},
   "outputs": [
    {
     "data": {
      "text/html": [
       "<div>\n",
       "<style scoped>\n",
       "    .dataframe tbody tr th:only-of-type {\n",
       "        vertical-align: middle;\n",
       "    }\n",
       "\n",
       "    .dataframe tbody tr th {\n",
       "        vertical-align: top;\n",
       "    }\n",
       "\n",
       "    .dataframe thead th {\n",
       "        text-align: right;\n",
       "    }\n",
       "</style>\n",
       "<table border=\"1\" class=\"dataframe\">\n",
       "  <thead>\n",
       "    <tr style=\"text-align: right;\">\n",
       "      <th></th>\n",
       "      <th>index</th>\n",
       "      <th>Date</th>\n",
       "      <th>Open</th>\n",
       "      <th>High</th>\n",
       "      <th>Low</th>\n",
       "      <th>Close</th>\n",
       "      <th>Volume</th>\n",
       "      <th>Dividends</th>\n",
       "      <th>Stock Splits</th>\n",
       "      <th>Symbol</th>\n",
       "      <th>Gradient</th>\n",
       "    </tr>\n",
       "  </thead>\n",
       "  <tbody>\n",
       "    <tr>\n",
       "      <th>1</th>\n",
       "      <td>507</td>\n",
       "      <td>2021-01-05</td>\n",
       "      <td>216.261380</td>\n",
       "      <td>217.515598</td>\n",
       "      <td>214.708553</td>\n",
       "      <td>216.898438</td>\n",
       "      <td>23823000.0</td>\n",
       "      <td>0.0</td>\n",
       "      <td>0.0</td>\n",
       "      <td>MSFT</td>\n",
       "      <td>NaN</td>\n",
       "    </tr>\n",
       "    <tr>\n",
       "      <th>4</th>\n",
       "      <td>510</td>\n",
       "      <td>2021-01-08</td>\n",
       "      <td>217.674868</td>\n",
       "      <td>219.566144</td>\n",
       "      <td>216.032458</td>\n",
       "      <td>218.610550</td>\n",
       "      <td>22956200.0</td>\n",
       "      <td>0.0</td>\n",
       "      <td>0.0</td>\n",
       "      <td>MSFT</td>\n",
       "      <td>0.189129</td>\n",
       "    </tr>\n",
       "    <tr>\n",
       "      <th>7</th>\n",
       "      <td>513</td>\n",
       "      <td>2021-01-13</td>\n",
       "      <td>213.036298</td>\n",
       "      <td>215.763695</td>\n",
       "      <td>212.946700</td>\n",
       "      <td>215.345627</td>\n",
       "      <td>20087100.0</td>\n",
       "      <td>0.0</td>\n",
       "      <td>0.0</td>\n",
       "      <td>MSFT</td>\n",
       "      <td>-1.063837</td>\n",
       "    </tr>\n",
       "    <tr>\n",
       "      <th>17</th>\n",
       "      <td>523</td>\n",
       "      <td>2021-01-28</td>\n",
       "      <td>234.527055</td>\n",
       "      <td>241.524741</td>\n",
       "      <td>234.009441</td>\n",
       "      <td>237.831787</td>\n",
       "      <td>49111200.0</td>\n",
       "      <td>0.0</td>\n",
       "      <td>0.0</td>\n",
       "      <td>MSFT</td>\n",
       "      <td>1.917398</td>\n",
       "    </tr>\n",
       "    <tr>\n",
       "      <th>19</th>\n",
       "      <td>525</td>\n",
       "      <td>2021-02-01</td>\n",
       "      <td>233.979578</td>\n",
       "      <td>241.385384</td>\n",
       "      <td>231.361662</td>\n",
       "      <td>238.548477</td>\n",
       "      <td>33314200.0</td>\n",
       "      <td>0.0</td>\n",
       "      <td>0.0</td>\n",
       "      <td>MSFT</td>\n",
       "      <td>1.733244</td>\n",
       "    </tr>\n",
       "    <tr>\n",
       "      <th>...</th>\n",
       "      <td>...</td>\n",
       "      <td>...</td>\n",
       "      <td>...</td>\n",
       "      <td>...</td>\n",
       "      <td>...</td>\n",
       "      <td>...</td>\n",
       "      <td>...</td>\n",
       "      <td>...</td>\n",
       "      <td>...</td>\n",
       "      <td>...</td>\n",
       "      <td>...</td>\n",
       "    </tr>\n",
       "    <tr>\n",
       "      <th>292</th>\n",
       "      <td>798</td>\n",
       "      <td>2022-03-02</td>\n",
       "      <td>295.359985</td>\n",
       "      <td>301.470001</td>\n",
       "      <td>293.700012</td>\n",
       "      <td>300.190002</td>\n",
       "      <td>31873000.0</td>\n",
       "      <td>0.0</td>\n",
       "      <td>0.0</td>\n",
       "      <td>MSFT</td>\n",
       "      <td>0.526253</td>\n",
       "    </tr>\n",
       "    <tr>\n",
       "      <th>297</th>\n",
       "      <td>803</td>\n",
       "      <td>2022-03-09</td>\n",
       "      <td>283.440002</td>\n",
       "      <td>289.600006</td>\n",
       "      <td>280.779999</td>\n",
       "      <td>288.500000</td>\n",
       "      <td>35204500.0</td>\n",
       "      <td>0.0</td>\n",
       "      <td>0.0</td>\n",
       "      <td>MSFT</td>\n",
       "      <td>-1.461250</td>\n",
       "    </tr>\n",
       "    <tr>\n",
       "      <th>304</th>\n",
       "      <td>810</td>\n",
       "      <td>2022-03-18</td>\n",
       "      <td>295.369995</td>\n",
       "      <td>301.000000</td>\n",
       "      <td>292.730011</td>\n",
       "      <td>300.429993</td>\n",
       "      <td>43317000.0</td>\n",
       "      <td>0.0</td>\n",
       "      <td>0.0</td>\n",
       "      <td>MSFT</td>\n",
       "      <td>4.500000</td>\n",
       "    </tr>\n",
       "    <tr>\n",
       "      <th>306</th>\n",
       "      <td>812</td>\n",
       "      <td>2022-03-22</td>\n",
       "      <td>299.799988</td>\n",
       "      <td>305.000000</td>\n",
       "      <td>298.769989</td>\n",
       "      <td>304.059998</td>\n",
       "      <td>27599700.0</td>\n",
       "      <td>0.0</td>\n",
       "      <td>0.0</td>\n",
       "      <td>MSFT</td>\n",
       "      <td>1.742496</td>\n",
       "    </tr>\n",
       "    <tr>\n",
       "      <th>308</th>\n",
       "      <td>814</td>\n",
       "      <td>2022-03-24</td>\n",
       "      <td>299.140015</td>\n",
       "      <td>304.200012</td>\n",
       "      <td>298.320007</td>\n",
       "      <td>304.100006</td>\n",
       "      <td>24484500.0</td>\n",
       "      <td>0.0</td>\n",
       "      <td>0.0</td>\n",
       "      <td>MSFT</td>\n",
       "      <td>1.023750</td>\n",
       "    </tr>\n",
       "  </tbody>\n",
       "</table>\n",
       "<p>79 rows × 11 columns</p>\n",
       "</div>"
      ],
      "text/plain": [
       "     index        Date        Open        High         Low       Close  \\\n",
       "1      507  2021-01-05  216.261380  217.515598  214.708553  216.898438   \n",
       "4      510  2021-01-08  217.674868  219.566144  216.032458  218.610550   \n",
       "7      513  2021-01-13  213.036298  215.763695  212.946700  215.345627   \n",
       "17     523  2021-01-28  234.527055  241.524741  234.009441  237.831787   \n",
       "19     525  2021-02-01  233.979578  241.385384  231.361662  238.548477   \n",
       "..     ...         ...         ...         ...         ...         ...   \n",
       "292    798  2022-03-02  295.359985  301.470001  293.700012  300.190002   \n",
       "297    803  2022-03-09  283.440002  289.600006  280.779999  288.500000   \n",
       "304    810  2022-03-18  295.369995  301.000000  292.730011  300.429993   \n",
       "306    812  2022-03-22  299.799988  305.000000  298.769989  304.059998   \n",
       "308    814  2022-03-24  299.140015  304.200012  298.320007  304.100006   \n",
       "\n",
       "         Volume  Dividends  Stock Splits Symbol  Gradient  \n",
       "1    23823000.0        0.0           0.0   MSFT       NaN  \n",
       "4    22956200.0        0.0           0.0   MSFT  0.189129  \n",
       "7    20087100.0        0.0           0.0   MSFT -1.063837  \n",
       "17   49111200.0        0.0           0.0   MSFT  1.917398  \n",
       "19   33314200.0        0.0           0.0   MSFT  1.733244  \n",
       "..          ...        ...           ...    ...       ...  \n",
       "292  31873000.0        0.0           0.0   MSFT  0.526253  \n",
       "297  35204500.0        0.0           0.0   MSFT -1.461250  \n",
       "304  43317000.0        0.0           0.0   MSFT  4.500000  \n",
       "306  27599700.0        0.0           0.0   MSFT  1.742496  \n",
       "308  24484500.0        0.0           0.0   MSFT  1.023750  \n",
       "\n",
       "[79 rows x 11 columns]"
      ]
     },
     "execution_count": 50,
     "metadata": {},
     "output_type": "execute_result"
    }
   ],
   "source": [
    "subset.iloc[peaks]"
   ]
  },
  {
   "cell_type": "code",
   "execution_count": 48,
   "metadata": {},
   "outputs": [],
   "source": [
    "peaks, peak_properties = find_peaks(subset.Close, plateau_size = 1)\n",
    "bottoms, bottom_properties =  find_peaks(subset.Close * - 1, plateau_size=1)"
   ]
  },
  {
   "cell_type": "code",
   "execution_count": 13,
   "metadata": {},
   "outputs": [
    {
     "data": {
      "text/plain": [
       "<matplotlib.collections.PathCollection at 0x13c819e50>"
      ]
     },
     "execution_count": 13,
     "metadata": {},
     "output_type": "execute_result"
    },
    {
     "data": {
      "image/png": "[encoded data removed]",
      "text/plain": [
       "<Figure size 1080x360 with 1 Axes>"
      ]
     },
     "metadata": {
      "needs_background": "light"
     },
     "output_type": "display_data"
    }
   ],
   "source": [
    "plt.figure(figsize=(15,5))\n",
    "plt.plot(subset.index, subset.Close)\n",
    "plt.scatter(x = peaks, y = subset.Close.iloc[peaks], alpha = .3, color = 'g')\n",
    "plt.scatter(x = bottoms, y = subset.Close.iloc[bottoms], alpha = .3, color = 'r')\n",
    "\n"
   ]
  },
  {
   "cell_type": "code",
   "execution_count": 14,
   "metadata": {},
   "outputs": [
    {
     "data": {
      "text/plain": [
       "array([  1,   4,   7,  17,  19,  21,  25,  28,  30,  35,  38,  42,  44,\n",
       "        46,  49,  54,  57,  62,  68,  71,  74,  78,  86,  91,  95,  98,\n",
       "       101, 106, 111, 114, 117, 119, 122, 127, 129, 132, 139, 143, 146,\n",
       "       148, 155, 160, 165, 171, 177, 182, 186, 188, 192, 200, 202, 208,\n",
       "       212, 214, 218, 220, 223, 226, 228, 235, 237, 240, 247, 249, 259,\n",
       "       261, 263, 266, 271, 273, 275, 278, 282, 290, 292, 297, 304, 306,\n",
       "       308])"
      ]
     },
     "execution_count": 14,
     "metadata": {},
     "output_type": "execute_result"
    }
   ],
   "source": [
    "peaks"
   ]
  },
  {
   "cell_type": "code",
   "execution_count": 15,
   "metadata": {},
   "outputs": [
    {
     "data": {
      "text/plain": [
       "{'plateau_sizes': array([1, 1, 1, 1, 1, 1, 1, 1, 1, 1, 1, 1, 1, 1, 1, 1, 1, 1, 1, 1, 1, 1,\n",
       "        1, 1, 1, 1, 1, 1, 1, 1, 1, 1, 1, 1, 1, 1, 1, 1, 1, 1, 1, 1, 1, 1,\n",
       "        1, 1, 1, 1, 2, 1, 1, 1, 1, 1, 1, 1, 1, 1, 1, 1, 1, 1, 1, 1, 1, 1,\n",
       "        1, 1, 1, 1, 1, 1, 1, 1, 1, 1, 1, 1, 1]),\n",
       " 'left_edges': array([  1,   4,   7,  17,  19,  21,  25,  28,  30,  35,  38,  42,  44,\n",
       "         46,  49,  54,  57,  62,  68,  71,  74,  78,  86,  91,  95,  98,\n",
       "        101, 106, 111, 114, 117, 119, 122, 127, 129, 132, 139, 143, 146,\n",
       "        148, 155, 160, 165, 171, 177, 182, 186, 188, 192, 200, 202, 208,\n",
       "        212, 214, 218, 220, 223, 226, 228, 235, 237, 240, 247, 249, 259,\n",
       "        261, 263, 266, 271, 273, 275, 278, 282, 290, 292, 297, 304, 306,\n",
       "        308]),\n",
       " 'right_edges': array([  1,   4,   7,  17,  19,  21,  25,  28,  30,  35,  38,  42,  44,\n",
       "         46,  49,  54,  57,  62,  68,  71,  74,  78,  86,  91,  95,  98,\n",
       "        101, 106, 111, 114, 117, 119, 122, 127, 129, 132, 139, 143, 146,\n",
       "        148, 155, 160, 165, 171, 177, 182, 186, 188, 193, 200, 202, 208,\n",
       "        212, 214, 218, 220, 223, 226, 228, 235, 237, 240, 247, 249, 259,\n",
       "        261, 263, 266, 271, 273, 275, 278, 282, 290, 292, 297, 304, 306,\n",
       "        308])}"
      ]
     },
     "execution_count": 15,
     "metadata": {},
     "output_type": "execute_result"
    }
   ],
   "source": [
    "peak_properties"
   ]
  },
  {
   "cell_type": "code",
   "execution_count": 16,
   "metadata": {},
   "outputs": [
    {
     "data": {
      "text/plain": [
       "{'plateau_sizes': array([1, 1, 1, 1, 1, 1, 1, 1, 1, 1, 1, 1, 1, 1, 1, 1, 1, 1, 1, 1, 1, 1,\n",
       "        1, 1, 1, 1, 1, 1, 1, 1, 1, 1, 1, 1, 1, 1, 1, 1, 1, 1, 1, 1, 1, 1,\n",
       "        1, 1, 1, 1, 1, 1, 1, 1, 1, 1, 1, 1, 1, 1, 1, 1, 1, 1, 1, 1, 1, 1,\n",
       "        1, 1, 1, 1, 1, 1, 1, 1, 1, 1, 1, 1]),\n",
       " 'left_edges': array([  2,   6,   9,  18,  20,  22,  26,  29,  34,  36,  41,  43,  45,\n",
       "         48,  52,  56,  59,  63,  69,  73,  75,  84,  89,  93,  96, 100,\n",
       "        104, 107, 113, 115, 118, 120, 123, 128, 130, 135, 142, 145, 147,\n",
       "        151, 157, 163, 170, 173, 179, 185, 187, 189, 195, 201, 204, 209,\n",
       "        213, 216, 219, 221, 225, 227, 232, 236, 239, 243, 248, 255, 260,\n",
       "        262, 265, 267, 272, 274, 276, 281, 287, 291, 296, 300, 305, 307]),\n",
       " 'right_edges': array([  2,   6,   9,  18,  20,  22,  26,  29,  34,  36,  41,  43,  45,\n",
       "         48,  52,  56,  59,  63,  69,  73,  75,  84,  89,  93,  96, 100,\n",
       "        104, 107, 113, 115, 118, 120, 123, 128, 130, 135, 142, 145, 147,\n",
       "        151, 157, 163, 170, 173, 179, 185, 187, 189, 195, 201, 204, 209,\n",
       "        213, 216, 219, 221, 225, 227, 232, 236, 239, 243, 248, 255, 260,\n",
       "        262, 265, 267, 272, 274, 276, 281, 287, 291, 296, 300, 305, 307])}"
      ]
     },
     "execution_count": 16,
     "metadata": {},
     "output_type": "execute_result"
    }
   ],
   "source": [
    "bottom_properties\n"
   ]
  },
  {
   "cell_type": "code",
   "execution_count": 17,
   "metadata": {},
   "outputs": [],
   "source": [
    "f = [*peaks, *bottoms]"
   ]
  },
  {
   "cell_type": "code",
   "execution_count": null,
   "metadata": {},
   "outputs": [],
   "source": []
  },
  {
   "cell_type": "code",
   "execution_count": 18,
   "metadata": {},
   "outputs": [
    {
     "data": {
      "text/plain": [
       "1      216.898438\n",
       "2      211.274414\n",
       "4      218.610550\n",
       "6      213.942093\n",
       "7      215.345627\n",
       "          ...    \n",
       "304    300.429993\n",
       "305    299.160004\n",
       "306    304.059998\n",
       "307    299.489990\n",
       "308    304.100006\n",
       "Name: Close, Length: 157, dtype: float64"
      ]
     },
     "execution_count": 18,
     "metadata": {},
     "output_type": "execute_result"
    }
   ],
   "source": [
    "f_price = subset.iloc[sorted(f)].Close\n",
    "f_price"
   ]
  },
  {
   "cell_type": "code",
   "execution_count": 19,
   "metadata": {},
   "outputs": [
    {
     "name": "stdout",
     "output_type": "stream",
     "text": [
      "11\n"
     ]
    }
   ],
   "source": [
    "window_size = 5\n",
    "db_count = 0\n",
    "double_bottoms = []\n",
    "for i in range(len(f_price) - window_size + 1):\n",
    "    x = f_price[i:i+window_size]\n",
    "    \n",
    "    xl = x.to_list()\n",
    "    \n",
    "    if xl[0] > xl[1] and xl[1] < xl[2] and xl[2] > xl[3] and xl[1] < xl[3] and xl[3] < xl[4] and xl[2] < xl[4]:\n",
    "        if xl[0] * .99 > xl[1]: # exclude minor movements\n",
    "            if subset['Gradient'].iloc[x.index[1]:x.index[2]].is_monotonic and subset['Gradient'].iloc[x.index[2]:x.index[3]].is_monotonic:\n",
    "                double_bottoms.append(x)\n",
    "                db_count += 1\n",
    "print(db_count)\n"
   ]
  },
  {
   "cell_type": "code",
   "execution_count": 20,
   "metadata": {},
   "outputs": [
    {
     "data": {
      "text/plain": [
       "2    211.274414\n",
       "4    218.610550\n",
       "6    213.942093\n",
       "7    215.345627\n",
       "9    211.672577\n",
       "Name: Close, dtype: float64"
      ]
     },
     "execution_count": 20,
     "metadata": {},
     "output_type": "execute_result"
    }
   ],
   "source": [
    "x = f_price[1:6]\n",
    "x"
   ]
  },
  {
   "cell_type": "code",
   "execution_count": 21,
   "metadata": {},
   "outputs": [
    {
     "data": {
      "text/plain": [
       "2"
      ]
     },
     "execution_count": 21,
     "metadata": {},
     "output_type": "execute_result"
    }
   ],
   "source": [
    "x.index[0]"
   ]
  },
  {
   "cell_type": "code",
   "execution_count": 22,
   "metadata": {},
   "outputs": [],
   "source": [
    "mod_db = [ db*.97 for db in double_bottoms] "
   ]
  },
  {
   "cell_type": "code",
   "execution_count": 23,
   "metadata": {},
   "outputs": [
    {
     "data": {
      "image/png": "[encoded data removed]",
      "text/plain": [
       "<Figure size 3600x360 with 1 Axes>"
      ]
     },
     "metadata": {
      "needs_background": "light"
     },
     "output_type": "display_data"
    }
   ],
   "source": [
    "plt.figure(figsize=(50,5))\n",
    "plt.plot(subset.index, subset.Close)\n",
    "plt.scatter(x = peaks, y = subset.Close.iloc[peaks], alpha = .9, color = 'g')\n",
    "plt.scatter(x = bottoms, y = subset.Close.iloc[bottoms], alpha = .9, color = 'r')\n",
    "i = 0\n",
    "for db in mod_db:\n",
    "    plt.plot(db.index, db.values, color = 'purple',linestyle = '-', alpha = .5)\n",
    "    plt.axvspan(db.index[0], db.index[-1], color = 'lightgray', alpha = .5) \n",
    "    plt.text(x = db.index[0], y = db.values[0] * .98, s = str(i))\n",
    "    i+=1"
   ]
  },
  {
   "cell_type": "code",
   "execution_count": 68,
   "metadata": {},
   "outputs": [],
   "source": [
    "def find_w_pattern(subset, column_of_interest = \"Close\"):\n",
    "    subset['Gradient'] = np.gradient(subset[column_of_interest].rolling(center=False,window=4).mean())\n",
    "    subset.reset_index(inplace = True, drop= True)\n",
    "    peaks, peak_properties = find_peaks(subset[column_of_interest], plateau_size = 1)\n",
    "    bottoms, bottom_properties =  find_peaks(subset[column_of_interest] * - 1, plateau_size=1)\n",
    "    local_extrema = [*peaks, *bottoms] # merging the two lists\n",
    "    f_price = subset.iloc[sorted(local_extrema)][column_of_interest]\n",
    "\n",
    "    window_size = 5\n",
    "    db_count = 0\n",
    "    double_bottoms = []\n",
    "    for i in range(len(f_price) - window_size + 1):\n",
    "        x = f_price[i:i+window_size]\n",
    "        \n",
    "        xl = x.to_list()\n",
    "        \n",
    "        if xl[0] > xl[1] and xl[1] < xl[2] and xl[2] > xl[3] and xl[1] < xl[3] and xl[3] < xl[4] and xl[2] < xl[4]:\n",
    "            if xl[0] * .99 > xl[1]: # exclude minor movements\n",
    "                if subset['Gradient'].iloc[x.index[1]:x.index[2]].is_monotonic and subset['Gradient'].iloc[x.index[2]:x.index[3]].is_monotonic:\n",
    "                    double_bottoms.append(x)\n",
    "                    db_count += 1\n",
    "    \n",
    "    mod_db = [ db*.97 for db in double_bottoms] \n",
    "    # plt.figure(figsize=(50,5))\n",
    "    # plt.plot(subset.index, subset[column_of_interest])\n",
    "    # plt.xticks(subset.Date)\n",
    "    # plt.scatter(x = peaks, y = subset[column_of_interest].iloc[peaks], alpha = .9, color = 'g')\n",
    "    # plt.scatter(x = bottoms, y = subset[column_of_interest].iloc[bottoms], alpha = .9, color = 'r')\n",
    "    # i = 0\n",
    "    # for db in mod_db:\n",
    "    #     plt.plot(db.index, db.values, color = 'purple',linestyle = '-', alpha = .5)\n",
    "    #     plt.axvspan(db.index[0], db.index[-1], color = 'lightgray', alpha = .5) \n",
    "    #     plt.text(x = db.index[0], y = db.values[0] * .98, s = str(i))\n",
    "    #     i+=1\n",
    "        \n",
    "    p = figure(title = 'W patterns',\n",
    "        x_axis_label = 'Date',\n",
    "        y_axis_label = 'W%R',\n",
    "        x_axis_type ='datetime',\n",
    "        plot_width = 800,\n",
    "        plot_height = 200,\n",
    "        tools = 'wheel_zoom, pan, reset')\n",
    "    \n",
    "    \n",
    "    p.line(x = subset.Date, y = subset[column_of_interest], line_width = 2)\n",
    "    p.circle(x = subset.Date.iloc[peaks], y = subset[column_of_interest].iloc[peaks], size = 50, alpha = .9, color = 'g')\n",
    "    p.circle(x = subset.Date.iloc[bottoms], y = subset[column_of_interest].iloc[bottoms], size = 50, alpha = .9, color = 'r')\n",
    "    show(p)"
   ]
  },
  {
   "cell_type": "code",
   "execution_count": 69,
   "metadata": {},
   "outputs": [
    {
     "name": "stderr",
     "output_type": "stream",
     "text": [
      "/var/folders/c6/5pqpts4j0z714gbd4lgp_1g80000gn/T/ipykernel_10109/1005229260.py:2: SettingWithCopyWarning: \n",
      "A value is trying to be set on a copy of a slice from a DataFrame.\n",
      "Try using .loc[row_indexer,col_indexer] = value instead\n",
      "\n",
      "See the caveats in the documentation: https://pandas.pydata.org/pandas-docs/stable/user_guide/indexing.html#returning-a-view-versus-a-copy\n",
      "  subset['Gradient'] = np.gradient(subset[column_of_interest].rolling(center=False,window=4).mean())\n",
      "ERROR:bokeh.core.validation.check:E-1001 (BAD_COLUMN_NAME): Glyph refers to nonexistent column name. This could either be due to a misspelling or typo, or due to an expected column being missing. : key \"fill_color\" value \"g\", key \"hatch_color\" value \"g\", key \"line_color\" value \"g\" [renderer: GlyphRenderer(id='4960', ...)]\n",
      "ERROR:bokeh.core.validation.check:E-1001 (BAD_COLUMN_NAME): Glyph refers to nonexistent column name. This could either be due to a misspelling or typo, or due to an expected column being missing. : key \"fill_color\" value \"r\", key \"hatch_color\" value \"r\", key \"line_color\" value \"r\" [renderer: GlyphRenderer(id='4966', ...)]\n"
     ]
    }
   ],
   "source": [
    "subset = data.loc[data.Symbol == 'MSFT']\n",
    "find_w_pattern(subset) "
   ]
  },
  {
   "cell_type": "code",
   "execution_count": null,
   "metadata": {},
   "outputs": [],
   "source": []
  }
 ],
 "metadata": {
  "interpreter": {
   "hash": "758258b5e8b45ec9f5b1e8a0f832f1f98ad6752149e10d5e95f53d93cab8a1dc"
  },
  "kernelspec": {
   "display_name": "Python 3.9.7 64-bit ('experimental': conda)",
   "language": "python",
   "name": "python397jvsc74a57bd0758258b5e8b45ec9f5b1e8a0f832f1f98ad6752149e10d5e95f53d93cab8a1dc"
  },
  "language_info": {
   "codemirror_mode": {
    "name": "ipython",
    "version": 3
   },
   "file_extension": ".py",
   "mimetype": "text/x-python",
   "name": "python",
   "nbconvert_exporter": "python",
   "pygments_lexer": "ipython3",
   "version": "3.9.7"
  }
 },
 "nbformat": 4,
 "nbformat_minor": 4
}
